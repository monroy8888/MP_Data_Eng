{
 "cells": [
  {
   "cell_type": "code",
   "execution_count": 1,
   "id": "0bfcf5d9-1c62-457f-b846-3ba5cdfc9f8e",
   "metadata": {},
   "outputs": [],
   "source": [
    "from pyspark.sql import SparkSession\n"
   ]
  },
  {
   "cell_type": "code",
   "execution_count": 2,
   "id": "e3ac9e89-36b5-48ac-ac89-f641dd01f5e7",
   "metadata": {},
   "outputs": [],
   "source": [
    "spark = SparkSession.builder \\\n",
    "    .appName(\"MercadoPago\") \\\n",
    "    .getOrCreate()"
   ]
  },
  {
   "cell_type": "code",
   "execution_count": 5,
   "id": "4dceecdd-444c-4749-a29b-ccc36bdb4e46",
   "metadata": {},
   "outputs": [],
   "source": [
    "#historial de 1 mes de pagos realizados por los usuarios\n",
    "pays_path = '/home/jovyan/work/spark_env/pays.csv'\n",
    "\n",
    "#historial de 1 mes de value props que fueron mostradas a cada usuario\n",
    "prints_path = '/home/jovyan/work/spark_env/prints.json'\n",
    "\n",
    "#historial de 1 mes de value props que fueron clickeadas por un usuario\n",
    "taps_path = '/home/jovyan/work/spark_env/taps.json'"
   ]
  },
  {
   "cell_type": "code",
   "execution_count": 6,
   "id": "df9e151e-cfe0-4d36-a458-b8d262b5c395",
   "metadata": {},
   "outputs": [],
   "source": [
    "paysDF = spark.read.csv(path=pays_path, header=True)"
   ]
  },
  {
   "cell_type": "code",
   "execution_count": 12,
   "id": "e1af4bee-4a6b-4d0e-b1c4-d5c249bc2aa7",
   "metadata": {},
   "outputs": [],
   "source": [
    "from pyspark.sql.functions import to_date, when, count, window, desc, asc, sum\n",
    "from pyspark.sql.types import IntegerType, StringType"
   ]
  },
  {
   "cell_type": "code",
   "execution_count": 13,
   "id": "a646f663-6ae0-4989-8a32-b15a31f1feb9",
   "metadata": {},
   "outputs": [],
   "source": [
    "paysDF = paysDF.withColumn('pay_date', to_date(paysDF['pay_date'], 'yyyy-MM-dd'))\n",
    "paysDF = paysDF.withColumn('total', paysDF['total'].cast(IntegerType()))\n",
    "paysDF = paysDF.withColumn('user_id', paysDF['user_id'].cast(IntegerType()))\n",
    "paysDF = paysDF.withColumn('value_prop', paysDF['value_prop'].cast(StringType()))"
   ]
  },
  {
   "cell_type": "code",
   "execution_count": 14,
   "id": "08b1eaa3-7c94-4412-9ce7-4570bea1d181",
   "metadata": {},
   "outputs": [
    {
     "name": "stdout",
     "output_type": "stream",
     "text": [
      "root\n",
      " |-- pay_date: date (nullable = true)\n",
      " |-- total: integer (nullable = true)\n",
      " |-- user_id: integer (nullable = true)\n",
      " |-- value_prop: string (nullable = true)\n",
      "\n"
     ]
    }
   ],
   "source": [
    "paysDF.printSchema()"
   ]
  },
  {
   "cell_type": "code",
   "execution_count": 15,
   "id": "374cc1c7-8958-4e19-995e-83ecb804572c",
   "metadata": {},
   "outputs": [
    {
     "name": "stdout",
     "output_type": "stream",
     "text": [
      "+----------+-----+-------+------------------+\n",
      "|  pay_date|total|user_id|        value_prop|\n",
      "+----------+-----+-------+------------------+\n",
      "|2020-11-01|    7|  35994|        link_cobro|\n",
      "|2020-11-01|   37|  79066|cellphone_recharge|\n",
      "|2020-11-01|   15|  19321|cellphone_recharge|\n",
      "|2020-11-01|   26|  19321|        send_money|\n",
      "|2020-11-01|   35|  38438|        send_money|\n",
      "|2020-11-01|   20|  85939|         transport|\n",
      "|2020-11-01|   74|  14372|           prepaid|\n",
      "|2020-11-01|   31|  14372|        link_cobro|\n",
      "|2020-11-01|   83|  65274|         transport|\n",
      "|2020-11-01|   93|  65274|           prepaid|\n",
      "|2020-11-01|   37|  97428|        link_cobro|\n",
      "|2020-11-01|   26|  82163|        link_cobro|\n",
      "|2020-11-01|   92|   9816|        send_money|\n",
      "|2020-11-01|  122|   9816|           prepaid|\n",
      "|2020-11-01|   83|  28929|           prepaid|\n",
      "|2020-11-01|  136|  97275|        link_cobro|\n",
      "|2020-11-01|   17|  85001|cellphone_recharge|\n",
      "|2020-11-01|   41|  85001|        link_cobro|\n",
      "|2020-11-01|   31|     42|        send_money|\n",
      "|2020-11-01|   39|     42|         transport|\n",
      "+----------+-----+-------+------------------+\n",
      "only showing top 20 rows\n",
      "\n"
     ]
    }
   ],
   "source": [
    "paysDF.show()"
   ]
  },
  {
   "cell_type": "code",
   "execution_count": null,
   "id": "43b7ade9-f52b-42b5-ad45-85f5c701abca",
   "metadata": {},
   "outputs": [],
   "source": []
  }
 ],
 "metadata": {
  "kernelspec": {
   "display_name": "Python 3 (ipykernel)",
   "language": "python",
   "name": "python3"
  },
  "language_info": {
   "codemirror_mode": {
    "name": "ipython",
    "version": 3
   },
   "file_extension": ".py",
   "mimetype": "text/x-python",
   "name": "python",
   "nbconvert_exporter": "python",
   "pygments_lexer": "ipython3",
   "version": "3.11.8"
  }
 },
 "nbformat": 4,
 "nbformat_minor": 5
}
